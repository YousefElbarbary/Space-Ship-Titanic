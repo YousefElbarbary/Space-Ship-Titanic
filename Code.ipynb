<<<<<<< HEAD
{
 "cells": [
  {
   "cell_type": "code",
   "execution_count": 18,
   "id": "a4de628b",
   "metadata": {},
   "outputs": [
    {
     "name": "stdout",
     "output_type": "stream",
     "text": [
      "Libraries Imported!\n"
     ]
    }
   ],
   "source": [
    "import numpy as np\n",
    "import pandas as pd\n",
    "import matplotlib.pyplot as plt\n",
    "import seaborn as sb\n",
    "from sklearn.model_selection import train_test_split\n",
    "from lazypredict.Supervised import LazyClassifier\n",
    "from sklearn.ensemble import AdaBoostClassifier\n",
    "from sklearn.metrics import accuracy_score\n",
    "from sklearn.metrics import make_scorer\n",
    "from sklearn.model_selection import GridSearchCV\n",
    "\n",
    "print(\"Libraries Imported!\")"
   ]
  },
  {
   "cell_type": "code",
   "execution_count": 19,
   "id": "1e4e3394",
   "metadata": {},
   "outputs": [],
   "source": [
    "train_data = pd.read_csv(\"train.csv\")\n",
    "test_data = pd.read_csv(\"test.csv\")"
   ]
  },
  {
   "cell_type": "code",
   "execution_count": 20,
   "id": "0accf631",
   "metadata": {},
   "outputs": [
    {
     "data": {
      "text/html": [
       "<div>\n",
       "<style scoped>\n",
       "    .dataframe tbody tr th:only-of-type {\n",
       "        vertical-align: middle;\n",
       "    }\n",
       "\n",
       "    .dataframe tbody tr th {\n",
       "        vertical-align: top;\n",
       "    }\n",
       "\n",
       "    .dataframe thead th {\n",
       "        text-align: right;\n",
       "    }\n",
       "</style>\n",
       "<table border=\"1\" class=\"dataframe\">\n",
       "  <thead>\n",
       "    <tr style=\"text-align: right;\">\n",
       "      <th></th>\n",
       "      <th>PassengerId</th>\n",
       "      <th>HomePlanet</th>\n",
       "      <th>CryoSleep</th>\n",
       "      <th>Cabin</th>\n",
       "      <th>Destination</th>\n",
       "      <th>Age</th>\n",
       "      <th>VIP</th>\n",
       "      <th>RoomService</th>\n",
       "      <th>FoodCourt</th>\n",
       "      <th>ShoppingMall</th>\n",
       "      <th>Spa</th>\n",
       "      <th>VRDeck</th>\n",
       "      <th>Name</th>\n",
       "      <th>Transported</th>\n",
       "    </tr>\n",
       "  </thead>\n",
       "  <tbody>\n",
       "    <tr>\n",
       "      <th>0</th>\n",
       "      <td>0001_01</td>\n",
       "      <td>Europa</td>\n",
       "      <td>False</td>\n",
       "      <td>B/0/P</td>\n",
       "      <td>TRAPPIST-1e</td>\n",
       "      <td>39.00</td>\n",
       "      <td>False</td>\n",
       "      <td>0.00</td>\n",
       "      <td>0.00</td>\n",
       "      <td>0.00</td>\n",
       "      <td>0.00</td>\n",
       "      <td>0.00</td>\n",
       "      <td>Maham Ofracculy</td>\n",
       "      <td>False</td>\n",
       "    </tr>\n",
       "    <tr>\n",
       "      <th>1</th>\n",
       "      <td>0002_01</td>\n",
       "      <td>Earth</td>\n",
       "      <td>False</td>\n",
       "      <td>F/0/S</td>\n",
       "      <td>TRAPPIST-1e</td>\n",
       "      <td>24.00</td>\n",
       "      <td>False</td>\n",
       "      <td>109.00</td>\n",
       "      <td>9.00</td>\n",
       "      <td>25.00</td>\n",
       "      <td>549.00</td>\n",
       "      <td>44.00</td>\n",
       "      <td>Juanna Vines</td>\n",
       "      <td>True</td>\n",
       "    </tr>\n",
       "    <tr>\n",
       "      <th>2</th>\n",
       "      <td>0003_01</td>\n",
       "      <td>Europa</td>\n",
       "      <td>False</td>\n",
       "      <td>A/0/S</td>\n",
       "      <td>TRAPPIST-1e</td>\n",
       "      <td>58.00</td>\n",
       "      <td>True</td>\n",
       "      <td>43.00</td>\n",
       "      <td>3576.00</td>\n",
       "      <td>0.00</td>\n",
       "      <td>6715.00</td>\n",
       "      <td>49.00</td>\n",
       "      <td>Altark Susent</td>\n",
       "      <td>False</td>\n",
       "    </tr>\n",
       "    <tr>\n",
       "      <th>3</th>\n",
       "      <td>0003_02</td>\n",
       "      <td>Europa</td>\n",
       "      <td>False</td>\n",
       "      <td>A/0/S</td>\n",
       "      <td>TRAPPIST-1e</td>\n",
       "      <td>33.00</td>\n",
       "      <td>False</td>\n",
       "      <td>0.00</td>\n",
       "      <td>1283.00</td>\n",
       "      <td>371.00</td>\n",
       "      <td>3329.00</td>\n",
       "      <td>193.00</td>\n",
       "      <td>Solam Susent</td>\n",
       "      <td>False</td>\n",
       "    </tr>\n",
       "    <tr>\n",
       "      <th>4</th>\n",
       "      <td>0004_01</td>\n",
       "      <td>Earth</td>\n",
       "      <td>False</td>\n",
       "      <td>F/1/S</td>\n",
       "      <td>TRAPPIST-1e</td>\n",
       "      <td>16.00</td>\n",
       "      <td>False</td>\n",
       "      <td>303.00</td>\n",
       "      <td>70.00</td>\n",
       "      <td>151.00</td>\n",
       "      <td>565.00</td>\n",
       "      <td>2.00</td>\n",
       "      <td>Willy Santantines</td>\n",
       "      <td>True</td>\n",
       "    </tr>\n",
       "  </tbody>\n",
       "</table>\n",
       "</div>"
      ],
      "text/plain": [
       "  PassengerId HomePlanet CryoSleep  Cabin  Destination   Age    VIP  \\\n",
       "0     0001_01     Europa     False  B/0/P  TRAPPIST-1e 39.00  False   \n",
       "1     0002_01      Earth     False  F/0/S  TRAPPIST-1e 24.00  False   \n",
       "2     0003_01     Europa     False  A/0/S  TRAPPIST-1e 58.00   True   \n",
       "3     0003_02     Europa     False  A/0/S  TRAPPIST-1e 33.00  False   \n",
       "4     0004_01      Earth     False  F/1/S  TRAPPIST-1e 16.00  False   \n",
       "\n",
       "   RoomService  FoodCourt  ShoppingMall     Spa  VRDeck               Name  \\\n",
       "0         0.00       0.00          0.00    0.00    0.00    Maham Ofracculy   \n",
       "1       109.00       9.00         25.00  549.00   44.00       Juanna Vines   \n",
       "2        43.00    3576.00          0.00 6715.00   49.00      Altark Susent   \n",
       "3         0.00    1283.00        371.00 3329.00  193.00       Solam Susent   \n",
       "4       303.00      70.00        151.00  565.00    2.00  Willy Santantines   \n",
       "\n",
       "   Transported  \n",
       "0        False  \n",
       "1         True  \n",
       "2        False  \n",
       "3        False  \n",
       "4         True  "
      ]
     },
     "execution_count": 20,
     "metadata": {},
     "output_type": "execute_result"
    }
   ],
   "source": [
    "train_data.head()"
   ]
  },
  {
   "cell_type": "code",
   "execution_count": 21,
   "id": "621895ac",
   "metadata": {},
   "outputs": [
    {
     "data": {
      "text/plain": [
       "PassengerId       0\n",
       "HomePlanet      201\n",
       "CryoSleep       217\n",
       "Cabin           199\n",
       "Destination     182\n",
       "Age             179\n",
       "VIP             203\n",
       "RoomService     181\n",
       "FoodCourt       183\n",
       "ShoppingMall    208\n",
       "Spa             183\n",
       "VRDeck          188\n",
       "Name            200\n",
       "Transported       0\n",
       "dtype: int64"
      ]
     },
     "execution_count": 21,
     "metadata": {},
     "output_type": "execute_result"
    }
   ],
   "source": [
    "train_data.isnull().sum()"
   ]
  },
  {
   "cell_type": "code",
   "execution_count": 22,
   "id": "91f280b7",
   "metadata": {},
   "outputs": [
    {
     "data": {
      "text/plain": [
       "<matplotlib.axes._subplots.AxesSubplot at 0x2c516fd0a20>"
      ]
     },
     "execution_count": 22,
     "metadata": {},
     "output_type": "execute_result"
    },
    {
     "data": {
      "image/png": "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",
      "text/plain": [
       "<matplotlib.figure.Figure at 0x2c516f6fac8>"
      ]
     },
     "metadata": {
      "needs_background": "light"
     },
     "output_type": "display_data"
    }
   ],
   "source": [
    "plt.figure(figsize=(5,5))\n",
    "plt.subplot(1,2,1)\n",
    "sb.countplot(data=train_data,x=\"CryoSleep\" )\n",
    "plt.subplot(1,2,2)\n",
    "sb.countplot(data=train_data,x=\"Destination\" )\n"
   ]
  },
  {
   "cell_type": "code",
   "execution_count": 23,
   "id": "44038a9b",
   "metadata": {},
   "outputs": [],
   "source": [
    "def data_to_int(df):\n",
    "    try:\n",
    "        df['Transported'] = df['Transported'].astype(int)\n",
    "    except:\n",
    "        pass\n",
    "    df['CryoSleep'] = df['CryoSleep'].astype(int)\n",
    "    df['VIP'] = df['VIP'].astype(int)\n",
    "    return(df)"
   ]
  },
  {
   "cell_type": "code",
   "execution_count": 24,
   "id": "0c2ad4e2",
   "metadata": {},
   "outputs": [],
   "source": [
    "def drop_redundant_cols(df):\n",
    "    df = df.drop(['PassengerId','Cabin','Name'], axis = 1)\n",
    "    return(df)"
   ]
  },
  {
   "cell_type": "code",
   "execution_count": 25,
   "id": "92f01149",
   "metadata": {},
   "outputs": [],
   "source": [
    "def deal_with_NaNs(df):\n",
    "    df['HomePlanet'] = df['HomePlanet'].fillna('Earth')\n",
    "    df['CryoSleep'] = df['CryoSleep'].fillna(False)\n",
    "    df['Destination'] = df['Destination'].fillna('TRAPPIST-1e')\n",
    "    df['Age'] = df['Age'].fillna(df['Age'].mean())\n",
    "    df['VIP'] = df['VIP'].fillna(False)\n",
    "    df['RoomService'] = df['RoomService'].fillna(df['RoomService'].mean())\n",
    "    df['FoodCourt'] = df['FoodCourt'].fillna(df['FoodCourt'].mean())\n",
    "    df['ShoppingMall'] = df['ShoppingMall'].fillna(df['ShoppingMall'].mean())\n",
    "    df['Spa'] = df['Spa'].fillna(df['Spa'].mean())\n",
    "    df['VRDeck'] = df['VRDeck'].fillna(df['VRDeck'].mean())\n",
    "\n",
    "    return(df)"
   ]
  },
  {
   "cell_type": "code",
   "execution_count": 26,
   "id": "3e239824",
   "metadata": {},
   "outputs": [],
   "source": [
    "def OneHot(df):\n",
    "    df = pd.get_dummies(df)\n",
    "    return(df)"
   ]
  },
  {
   "cell_type": "code",
   "execution_count": 27,
   "id": "c8ff14d6",
   "metadata": {},
   "outputs": [],
   "source": [
    "def label_feat_split(df):\n",
    "    labels = df['Transported']\n",
    "    features = df.drop(['Transported'],axis=1)\n",
    "    return features, labels"
   ]
  },
  {
   "cell_type": "code",
   "execution_count": 28,
   "id": "74db7024",
   "metadata": {},
   "outputs": [],
   "source": [
    "def Get_Final_data(df):\n",
    "    df = deal_with_NaNs(df)\n",
    "    df = drop_redundant_cols(df)\n",
    "    df = data_to_int(df)\n",
    "    df= OneHot(df)\n",
    "    return(df)\n"
   ]
  },
  {
   "cell_type": "code",
   "execution_count": 29,
   "id": "f6ebf345",
   "metadata": {},
   "outputs": [],
   "source": [
    "def Output_File(ids,Answers):\n",
    "    dic = {\"PassengerId\":ids , \"Transported\":Answers}\n",
    "    final = pd.DataFrame(dic)\n",
    "    final['Transported'] = final['Transported'].astype(bool)\n",
    "    print(final)\n",
    "    final.to_csv(\"Answers.csv\", index=False)"
   ]
  },
  {
   "cell_type": "code",
   "execution_count": 30,
   "id": "90a01015",
   "metadata": {},
   "outputs": [],
   "source": [
    "def grid_search(clf,X_train,Y_train):\n",
    "    scorer = make_scorer(accuracy_score)\n",
    "    parameters = {\"n_estimators\":[30,40,50,60,70],\"learning_rate\":[0.01,0.05,0.1,0.5,1]}\n",
    "    grid_obj = GridSearchCV(clf,parameters,scoring=scorer)\n",
    "    grid_fit = grid_obj.fit(X_train,Y_train)\n",
    "    bestclf = grid_fit.best_estimator_\n",
    "    return(bestclf)"
   ]
  },
  {
   "cell_type": "code",
   "execution_count": 31,
   "id": "8ac983d2",
   "metadata": {},
   "outputs": [
    {
     "name": "stdout",
     "output_type": "stream",
     "text": [
      "Training data is splitted\n"
     ]
    }
   ],
   "source": [
    "train_data_final = Get_Final_data(train_data)\n",
    "features, labels = label_feat_split(train_data_final)\n",
    "X_train , X_test, Y_train , Y_test = train_test_split(features, labels, test_size=0.25, random_state=45)\n",
    "print(\"Training data is splitted\")"
   ]
  },
  {
   "cell_type": "code",
   "execution_count": 32,
   "id": "37051c47",
   "metadata": {},
   "outputs": [],
   "source": [
    "#clf = LazyClassifier(verbose=0, ignore_warnings=True, custom_metric=None)\n",
    "#models, predictions = clf.fit(X_train, X_test ,Y_train,Y_test)\n",
    "#models"
   ]
  },
  {
   "cell_type": "code",
   "execution_count": 33,
   "id": "b1dbb3cb",
   "metadata": {},
   "outputs": [
    {
     "name": "stdout",
     "output_type": "stream",
     "text": [
      "Accurancy Score = 0.795768169273229\n",
      "Accurancy Score = 0.7870285188592456\n"
     ]
    }
   ],
   "source": [
    "clf = AdaBoostClassifier()\n",
    "clf.fit(X_train,Y_train)\n",
    "Y_predict = clf.predict(X_test)\n",
    "\n",
    "print(\"Accurancy Score = {}\".format(accuracy_score(Y_test,Y_predict)))\n",
    "\n",
    "best_clf = grid_search(clf,X_train,Y_train)\n",
    "Y_predict = best_clf.predict(X_test)\n",
    "\n",
    "print(\"Accurancy Score = {}\".format(accuracy_score(Y_test,Y_predict)))"
   ]
  },
  {
   "cell_type": "code",
   "execution_count": 34,
   "id": "18c53322",
   "metadata": {},
   "outputs": [
    {
     "name": "stdout",
     "output_type": "stream",
     "text": [
      "[1 0 1 ..., 1 1 1]\n",
      "     PassengerId  Transported\n",
      "0        0013_01         True\n",
      "1        0018_01        False\n",
      "2        0019_01         True\n",
      "3        0021_01         True\n",
      "4        0023_01         True\n",
      "5        0027_01        False\n",
      "6        0029_01         True\n",
      "7        0032_01         True\n",
      "8        0032_02         True\n",
      "9        0033_01         True\n",
      "10       0037_01        False\n",
      "11       0040_01        False\n",
      "12       0040_02         True\n",
      "13       0042_01         True\n",
      "14       0046_01        False\n",
      "15       0046_02        False\n",
      "16       0046_03        False\n",
      "17       0047_01         True\n",
      "18       0047_02         True\n",
      "19       0047_03        False\n",
      "20       0048_01         True\n",
      "21       0049_01        False\n",
      "22       0054_01         True\n",
      "23       0054_02         True\n",
      "24       0054_03         True\n",
      "25       0055_01        False\n",
      "26       0057_01         True\n",
      "27       0059_01         True\n",
      "28       0060_01        False\n",
      "29       0063_01         True\n",
      "...          ...          ...\n",
      "4247     9216_01        False\n",
      "4248     9223_01         True\n",
      "4249     9223_02         True\n",
      "4250     9228_01        False\n",
      "4251     9229_01         True\n",
      "4252     9232_01        False\n",
      "4253     9236_01         True\n",
      "4254     9238_01        False\n",
      "4255     9238_02         True\n",
      "4256     9238_03         True\n",
      "4257     9238_04        False\n",
      "4258     9238_05         True\n",
      "4259     9238_06         True\n",
      "4260     9238_07        False\n",
      "4261     9240_01        False\n",
      "4262     9243_01         True\n",
      "4263     9245_01        False\n",
      "4264     9249_01        False\n",
      "4265     9255_01         True\n",
      "4266     9258_01         True\n",
      "4267     9260_01         True\n",
      "4268     9262_01         True\n",
      "4269     9263_01         True\n",
      "4270     9265_01         True\n",
      "4271     9266_01         True\n",
      "4272     9266_02         True\n",
      "4273     9269_01        False\n",
      "4274     9271_01         True\n",
      "4275     9273_01         True\n",
      "4276     9277_01         True\n",
      "\n",
      "[4277 rows x 2 columns]\n"
     ]
    }
   ],
   "source": [
    "ids = test_data['PassengerId']\n",
    "test_feats_final = Get_Final_data(test_data)\n",
    "Answers = best_clf.predict(test_feats_final)\n",
    "\n",
    "print(Answers)\n",
    "Output_File(ids,Answers)"
   ]
  },
  {
   "cell_type": "code",
   "execution_count": null,
   "id": "fd46633c",
   "metadata": {},
   "outputs": [],
   "source": []
  }
 ],
 "metadata": {
  "kernelspec": {
   "display_name": "svml",
   "language": "python",
   "name": "python3"
  },
  "language_info": {
   "codemirror_mode": {
    "name": "ipython",
    "version": 3
   },
   "file_extension": ".py",
   "mimetype": "text/x-python",
   "name": "python",
   "nbconvert_exporter": "python",
   "pygments_lexer": "ipython3",
   "version": "3.6.13"
  },
  "vscode": {
   "interpreter": {
    "hash": "f67216415a7dcef35a352995f06412b078c3c9d8b076904cedaeb3d790888bf7"
   }
  }
 },
 "nbformat": 4,
 "nbformat_minor": 5
}
=======
{
 "cells": [
  {
   "cell_type": "code",
   "execution_count": 264,
   "id": "a4de628b",
   "metadata": {},
   "outputs": [
    {
     "name": "stdout",
     "output_type": "stream",
     "text": [
      "Libraries Imported!\n"
     ]
    }
   ],
   "source": [
    "import numpy as np\n",
    "import pandas as pd\n",
    "import matplotlib.pyplot as plt\n",
    "import seaborn as sb\n",
    "from sklearn.model_selection import train_test_split\n",
    "from lazypredict.Supervised import LazyClassifier\n",
    "from sklearn.ensemble import AdaBoostClassifier\n",
    "from sklearn.metrics import accuracy_score\n",
    "print(\"Libraries Imported!\")"
   ]
  },
  {
   "cell_type": "code",
   "execution_count": 265,
   "id": "1e4e3394",
   "metadata": {},
   "outputs": [],
   "source": [
    "train_data = pd.read_csv(\"train.csv\")\n",
    "test_data = pd.read_csv(\"test.csv\")"
   ]
  },
  {
   "cell_type": "code",
   "execution_count": 266,
   "id": "0accf631",
   "metadata": {},
   "outputs": [
    {
     "data": {
      "text/html": [
       "<div>\n",
       "<style scoped>\n",
       "    .dataframe tbody tr th:only-of-type {\n",
       "        vertical-align: middle;\n",
       "    }\n",
       "\n",
       "    .dataframe tbody tr th {\n",
       "        vertical-align: top;\n",
       "    }\n",
       "\n",
       "    .dataframe thead th {\n",
       "        text-align: right;\n",
       "    }\n",
       "</style>\n",
       "<table border=\"1\" class=\"dataframe\">\n",
       "  <thead>\n",
       "    <tr style=\"text-align: right;\">\n",
       "      <th></th>\n",
       "      <th>PassengerId</th>\n",
       "      <th>HomePlanet</th>\n",
       "      <th>CryoSleep</th>\n",
       "      <th>Cabin</th>\n",
       "      <th>Destination</th>\n",
       "      <th>Age</th>\n",
       "      <th>VIP</th>\n",
       "      <th>RoomService</th>\n",
       "      <th>FoodCourt</th>\n",
       "      <th>ShoppingMall</th>\n",
       "      <th>Spa</th>\n",
       "      <th>VRDeck</th>\n",
       "      <th>Name</th>\n",
       "      <th>Transported</th>\n",
       "    </tr>\n",
       "  </thead>\n",
       "  <tbody>\n",
       "    <tr>\n",
       "      <th>0</th>\n",
       "      <td>0001_01</td>\n",
       "      <td>Europa</td>\n",
       "      <td>False</td>\n",
       "      <td>B/0/P</td>\n",
       "      <td>TRAPPIST-1e</td>\n",
       "      <td>39.00</td>\n",
       "      <td>False</td>\n",
       "      <td>0.00</td>\n",
       "      <td>0.00</td>\n",
       "      <td>0.00</td>\n",
       "      <td>0.00</td>\n",
       "      <td>0.00</td>\n",
       "      <td>Maham Ofracculy</td>\n",
       "      <td>False</td>\n",
       "    </tr>\n",
       "    <tr>\n",
       "      <th>1</th>\n",
       "      <td>0002_01</td>\n",
       "      <td>Earth</td>\n",
       "      <td>False</td>\n",
       "      <td>F/0/S</td>\n",
       "      <td>TRAPPIST-1e</td>\n",
       "      <td>24.00</td>\n",
       "      <td>False</td>\n",
       "      <td>109.00</td>\n",
       "      <td>9.00</td>\n",
       "      <td>25.00</td>\n",
       "      <td>549.00</td>\n",
       "      <td>44.00</td>\n",
       "      <td>Juanna Vines</td>\n",
       "      <td>True</td>\n",
       "    </tr>\n",
       "    <tr>\n",
       "      <th>2</th>\n",
       "      <td>0003_01</td>\n",
       "      <td>Europa</td>\n",
       "      <td>False</td>\n",
       "      <td>A/0/S</td>\n",
       "      <td>TRAPPIST-1e</td>\n",
       "      <td>58.00</td>\n",
       "      <td>True</td>\n",
       "      <td>43.00</td>\n",
       "      <td>3576.00</td>\n",
       "      <td>0.00</td>\n",
       "      <td>6715.00</td>\n",
       "      <td>49.00</td>\n",
       "      <td>Altark Susent</td>\n",
       "      <td>False</td>\n",
       "    </tr>\n",
       "    <tr>\n",
       "      <th>3</th>\n",
       "      <td>0003_02</td>\n",
       "      <td>Europa</td>\n",
       "      <td>False</td>\n",
       "      <td>A/0/S</td>\n",
       "      <td>TRAPPIST-1e</td>\n",
       "      <td>33.00</td>\n",
       "      <td>False</td>\n",
       "      <td>0.00</td>\n",
       "      <td>1283.00</td>\n",
       "      <td>371.00</td>\n",
       "      <td>3329.00</td>\n",
       "      <td>193.00</td>\n",
       "      <td>Solam Susent</td>\n",
       "      <td>False</td>\n",
       "    </tr>\n",
       "    <tr>\n",
       "      <th>4</th>\n",
       "      <td>0004_01</td>\n",
       "      <td>Earth</td>\n",
       "      <td>False</td>\n",
       "      <td>F/1/S</td>\n",
       "      <td>TRAPPIST-1e</td>\n",
       "      <td>16.00</td>\n",
       "      <td>False</td>\n",
       "      <td>303.00</td>\n",
       "      <td>70.00</td>\n",
       "      <td>151.00</td>\n",
       "      <td>565.00</td>\n",
       "      <td>2.00</td>\n",
       "      <td>Willy Santantines</td>\n",
       "      <td>True</td>\n",
       "    </tr>\n",
       "  </tbody>\n",
       "</table>\n",
       "</div>"
      ],
      "text/plain": [
       "  PassengerId HomePlanet CryoSleep  Cabin  Destination   Age    VIP  \\\n",
       "0     0001_01     Europa     False  B/0/P  TRAPPIST-1e 39.00  False   \n",
       "1     0002_01      Earth     False  F/0/S  TRAPPIST-1e 24.00  False   \n",
       "2     0003_01     Europa     False  A/0/S  TRAPPIST-1e 58.00   True   \n",
       "3     0003_02     Europa     False  A/0/S  TRAPPIST-1e 33.00  False   \n",
       "4     0004_01      Earth     False  F/1/S  TRAPPIST-1e 16.00  False   \n",
       "\n",
       "   RoomService  FoodCourt  ShoppingMall     Spa  VRDeck               Name  \\\n",
       "0         0.00       0.00          0.00    0.00    0.00    Maham Ofracculy   \n",
       "1       109.00       9.00         25.00  549.00   44.00       Juanna Vines   \n",
       "2        43.00    3576.00          0.00 6715.00   49.00      Altark Susent   \n",
       "3         0.00    1283.00        371.00 3329.00  193.00       Solam Susent   \n",
       "4       303.00      70.00        151.00  565.00    2.00  Willy Santantines   \n",
       "\n",
       "   Transported  \n",
       "0        False  \n",
       "1         True  \n",
       "2        False  \n",
       "3        False  \n",
       "4         True  "
      ]
     },
     "execution_count": 266,
     "metadata": {},
     "output_type": "execute_result"
    }
   ],
   "source": [
    "train_data.head()"
   ]
  },
  {
   "cell_type": "code",
   "execution_count": 267,
   "id": "621895ac",
   "metadata": {},
   "outputs": [
    {
     "data": {
      "text/plain": [
       "PassengerId       0\n",
       "HomePlanet      201\n",
       "CryoSleep       217\n",
       "Cabin           199\n",
       "Destination     182\n",
       "Age             179\n",
       "VIP             203\n",
       "RoomService     181\n",
       "FoodCourt       183\n",
       "ShoppingMall    208\n",
       "Spa             183\n",
       "VRDeck          188\n",
       "Name            200\n",
       "Transported       0\n",
       "dtype: int64"
      ]
     },
     "execution_count": 267,
     "metadata": {},
     "output_type": "execute_result"
    }
   ],
   "source": [
    "train_data.isnull().sum()"
   ]
  },
  {
   "cell_type": "code",
   "execution_count": 268,
   "id": "91f280b7",
   "metadata": {},
   "outputs": [
    {
     "data": {
      "text/plain": [
       "<matplotlib.axes._subplots.AxesSubplot at 0x21235a38a58>"
      ]
     },
     "execution_count": 268,
     "metadata": {},
     "output_type": "execute_result"
    },
    {
     "data": {
      "image/png": "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",
      "text/plain": [
       "<matplotlib.figure.Figure at 0x21235bc4a20>"
      ]
     },
     "metadata": {
      "needs_background": "light"
     },
     "output_type": "display_data"
    }
   ],
   "source": [
    "plt.figure(figsize=(5,5))\n",
    "plt.subplot(1,2,1)\n",
    "sb.countplot(data=train_data,x=\"CryoSleep\" )\n",
    "plt.subplot(1,2,2)\n",
    "sb.countplot(data=train_data,x=\"Destination\" )\n"
   ]
  },
  {
   "cell_type": "code",
   "execution_count": 269,
   "id": "44038a9b",
   "metadata": {},
   "outputs": [],
   "source": [
    "def data_to_int(df):\n",
    "    try:\n",
    "        df['Transported'] = df['Transported'].astype(int)\n",
    "    except:\n",
    "        pass\n",
    "    df['CryoSleep'] = df['CryoSleep'].astype(int)\n",
    "    df['VIP'] = df['VIP'].astype(int)\n",
    "    return(df)"
   ]
  },
  {
   "cell_type": "code",
   "execution_count": 270,
   "id": "0c2ad4e2",
   "metadata": {},
   "outputs": [],
   "source": [
    "def drop_redundant_cols(df):\n",
    "    df = df.drop(['PassengerId','Cabin','Name'], axis = 1)\n",
    "    return(df)"
   ]
  },
  {
   "cell_type": "code",
   "execution_count": 271,
   "id": "92f01149",
   "metadata": {},
   "outputs": [],
   "source": [
    "def deal_with_NaNs(df):\n",
    "    df['HomePlanet'] = df['HomePlanet'].fillna('Earth')\n",
    "    df['CryoSleep'] = df['CryoSleep'].fillna(False)\n",
    "    df['Destination'] = df['Destination'].fillna('TRAPPIST-1e')\n",
    "    df['Age'] = df['Age'].fillna(df['Age'].mean())\n",
    "    df['VIP'] = df['VIP'].fillna(False)\n",
    "    df['RoomService'] = df['RoomService'].fillna(df['RoomService'].mean())\n",
    "    df['FoodCourt'] = df['FoodCourt'].fillna(df['FoodCourt'].mean())\n",
    "    df['ShoppingMall'] = df['ShoppingMall'].fillna(df['ShoppingMall'].mean())\n",
    "    df['Spa'] = df['Spa'].fillna(df['Spa'].mean())\n",
    "    df['VRDeck'] = df['VRDeck'].fillna(df['VRDeck'].mean())\n",
    "\n",
    "    return(df)"
   ]
  },
  {
   "cell_type": "code",
   "execution_count": 272,
   "id": "3e239824",
   "metadata": {},
   "outputs": [],
   "source": [
    "def OneHot(df):\n",
    "    df = pd.get_dummies(df)\n",
    "    return(df)"
   ]
  },
  {
   "cell_type": "code",
   "execution_count": 273,
   "id": "c8ff14d6",
   "metadata": {},
   "outputs": [],
   "source": [
    "def label_feat_split(df):\n",
    "    labels = df['Transported']\n",
    "    features = df.drop(['Transported'],axis=1)\n",
    "    return features, labels"
   ]
  },
  {
   "cell_type": "code",
   "execution_count": 274,
   "id": "74db7024",
   "metadata": {},
   "outputs": [],
   "source": [
    "def Get_Final_data(df):\n",
    "    df = deal_with_NaNs(df)\n",
    "    df = drop_redundant_cols(df)\n",
    "    df = data_to_int(df)\n",
    "    df= OneHot(df)\n",
    "    return(df)\n"
   ]
  },
  {
   "cell_type": "code",
   "execution_count": 275,
   "id": "f6ebf345",
   "metadata": {},
   "outputs": [],
   "source": [
    "def Output_File(ids,Answers):\n",
    "    dic = {\"PassengerId\":ids , \"Transported\":Answers}\n",
    "    final = pd.DataFrame(dic)\n",
    "    final['Transported'] = final['Transported'].astype(bool)\n",
    "    print(final)\n",
    "    final.to_csv(\"Answers\", index=False)"
   ]
  },
  {
   "cell_type": "code",
   "execution_count": 276,
   "id": "8ac983d2",
   "metadata": {},
   "outputs": [
    {
     "name": "stdout",
     "output_type": "stream",
     "text": [
      "Training data is splitted\n"
     ]
    }
   ],
   "source": [
    "train_data_final = Get_Final_data(train_data)\n",
    "features, labels = label_feat_split(train_data_final)\n",
    "X_train , X_test, Y_train , Y_test = train_test_split(features, labels, test_size=0.25, random_state=45)\n",
    "print(\"Training data is splitted\")"
   ]
  },
  {
   "cell_type": "code",
   "execution_count": 277,
   "id": "37051c47",
   "metadata": {},
   "outputs": [],
   "source": [
    "#clf = LazyClassifier(verbose=0, ignore_warnings=True, custom_metric=None)\n",
    "#models, predictions = clf.fit(X_train, X_test ,Y_train,Y_test)\n",
    "#models"
   ]
  },
  {
   "cell_type": "code",
   "execution_count": 278,
   "id": "b1dbb3cb",
   "metadata": {},
   "outputs": [
    {
     "name": "stdout",
     "output_type": "stream",
     "text": [
      "Accurancy Score = 0.795768169273229\n"
     ]
    }
   ],
   "source": [
    "clf = AdaBoostClassifier()\n",
    "clf.fit(X_train,Y_train)\n",
    "Y_predict = clf.predict(X_test)\n",
    "\n",
    "print(\"Accurancy Score = {}\".format(accuracy_score(Y_test,Y_predict)))"
   ]
  },
  {
   "cell_type": "code",
   "execution_count": 279,
   "id": "18c53322",
   "metadata": {},
   "outputs": [
    {
     "name": "stdout",
     "output_type": "stream",
     "text": [
      "[1 0 1 ..., 1 1 1]\n",
      "     PassengerId  Transported\n",
      "0        0013_01         True\n",
      "1        0018_01        False\n",
      "2        0019_01         True\n",
      "3        0021_01         True\n",
      "4        0023_01        False\n",
      "5        0027_01         True\n",
      "6        0029_01         True\n",
      "7        0032_01         True\n",
      "8        0032_02         True\n",
      "9        0033_01         True\n",
      "10       0037_01        False\n",
      "11       0040_01        False\n",
      "12       0040_02         True\n",
      "13       0042_01         True\n",
      "14       0046_01        False\n",
      "15       0046_02        False\n",
      "16       0046_03        False\n",
      "17       0047_01         True\n",
      "18       0047_02         True\n",
      "19       0047_03        False\n",
      "20       0048_01         True\n",
      "21       0049_01        False\n",
      "22       0054_01         True\n",
      "23       0054_02         True\n",
      "24       0054_03         True\n",
      "25       0055_01        False\n",
      "26       0057_01         True\n",
      "27       0059_01         True\n",
      "28       0060_01         True\n",
      "29       0063_01         True\n",
      "...          ...          ...\n",
      "4247     9216_01        False\n",
      "4248     9223_01         True\n",
      "4249     9223_02         True\n",
      "4250     9228_01        False\n",
      "4251     9229_01         True\n",
      "4252     9232_01        False\n",
      "4253     9236_01         True\n",
      "4254     9238_01        False\n",
      "4255     9238_02         True\n",
      "4256     9238_03         True\n",
      "4257     9238_04        False\n",
      "4258     9238_05         True\n",
      "4259     9238_06         True\n",
      "4260     9238_07        False\n",
      "4261     9240_01        False\n",
      "4262     9243_01         True\n",
      "4263     9245_01        False\n",
      "4264     9249_01        False\n",
      "4265     9255_01         True\n",
      "4266     9258_01         True\n",
      "4267     9260_01         True\n",
      "4268     9262_01         True\n",
      "4269     9263_01         True\n",
      "4270     9265_01         True\n",
      "4271     9266_01         True\n",
      "4272     9266_02         True\n",
      "4273     9269_01         True\n",
      "4274     9271_01         True\n",
      "4275     9273_01         True\n",
      "4276     9277_01         True\n",
      "\n",
      "[4277 rows x 2 columns]\n"
     ]
    }
   ],
   "source": [
    "ids = test_data['PassengerId']\n",
    "test_feats_final = Get_Final_data(test_data)\n",
    "Answers = clf.predict(test_feats_final)\n",
    "\n",
    "print(Answers)\n",
    "Output_File(ids,Answers)"
   ]
  },
  {
   "cell_type": "code",
   "execution_count": null,
   "id": "fd46633c",
   "metadata": {},
   "outputs": [],
   "source": []
  }
 ],
 "metadata": {
  "kernelspec": {
   "display_name": "svml",
   "language": "python",
   "name": "python3"
  },
  "language_info": {
   "codemirror_mode": {
    "name": "ipython",
    "version": 3
   },
   "file_extension": ".py",
   "mimetype": "text/x-python",
   "name": "python",
   "nbconvert_exporter": "python",
   "pygments_lexer": "ipython3",
   "version": "3.6.13"
  },
  "vscode": {
   "interpreter": {
    "hash": "f67216415a7dcef35a352995f06412b078c3c9d8b076904cedaeb3d790888bf7"
   }
  }
 },
 "nbformat": 4,
 "nbformat_minor": 5
}
>>>>>>> 08625c05618c0793c60bde2cb33f8dafc10de9c2
